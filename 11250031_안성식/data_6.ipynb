{
 "cells": [
  {
   "cell_type": "code",
   "execution_count": null,
   "id": "c60681b8",
   "metadata": {},
   "outputs": [],
   "source": [
    "import matplotlib.pyplot as plt\n",
    "import csv\n",
    "f = open('seoul.csv')\n",
    "data = csv.reader(f)\n",
    "next(data)\n",
    "# 8월 일별 데이터를 저장할 리스트 (31일)\n",
    "august_days = [[] for _ in range(31)]\n",
    "\n",
    "for row in data :\n",
    "    if row[-1] != '':\n",
    "        date_parts = row[0].split('-')\n",
    "        month = date_parts[1]\n",
    "        day = date_parts[2]\n",
    "        \n",
    "        # 8월 데이터만 처리\n",
    "        if month == '08':\n",
    "            # 일별 데이터 저장 (1일 → 인덱스 0, 2일 → 인덱스 1, ...)\n",
    "            august_days[int(day)-1].append(float(row[-1]))\n",
    "\n",
    "# 빈 리스트 제거 (데이터가 없는 날짜)\n",
    "august_days = [day_data for day_data in august_days if day_data]\n",
    "\n",
    "plt.figure(figsize=(15, 6))\n",
    "plt.boxplot(august_days)\n",
    "plt.title('8월 일별 최고 기온 분포')\n",
    "plt.xlabel('8월의 일')\n",
    "plt.ylabel('최고 기온 (°C)')\n",
    "plt.xticks(range(1, len(august_days)+1), range(1, len(august_days)+1))\n",
    "plt.grid(True, alpha=0.3)\n",
    "plt.show()"
   ]
  }
 ],
 "metadata": {
  "kernelspec": {
   "display_name": "Python 3",
   "language": "python",
   "name": "python3"
  },
  "language_info": {
   "codemirror_mode": {
    "name": "ipython",
    "version": 3
   },
   "file_extension": ".py",
   "mimetype": "text/x-python",
   "name": "python",
   "nbconvert_exporter": "python",
   "pygments_lexer": "ipython3",
   "version": "3.13.2"
  }
 },
 "nbformat": 4,
 "nbformat_minor": 5
}
